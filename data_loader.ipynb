{
 "cells": [
  {
   "cell_type": "code",
   "execution_count": 1,
   "id": "15e3bc5d",
   "metadata": {
    "ExecuteTime": {
     "end_time": "2023-04-27T02:17:53.107440Z",
     "start_time": "2023-04-27T02:17:52.400202Z"
    }
   },
   "outputs": [],
   "source": [
    "from typing import Union, List, Dict, Tuple\n",
    "from pathlib import Path\n",
    "import json\n",
    "import pandas as pd\n"
   ]
  },
  {
   "cell_type": "code",
   "execution_count": 2,
   "id": "f46da0b4",
   "metadata": {
    "ExecuteTime": {
     "end_time": "2023-04-27T02:17:53.112452Z",
     "start_time": "2023-04-27T02:17:53.108847Z"
    }
   },
   "outputs": [],
   "source": [
    "def load_json(file_path: Union[Path, str]) -> pd.DataFrame:\n",
    "    \"\"\"jsonl_to_df read jsonl file and return a pandas DataFrame.\n",
    "\n",
    "    Args:\n",
    "        file_path (Union[Path, str]): The jsonl file path.\n",
    "\n",
    "    Returns:\n",
    "        pd.DataFrame: The jsonl file content.\n",
    "\n",
    "    Example:\n",
    "        >>> read_jsonl_file(\"data/train.jsonl\")\n",
    "               id            label  ... predicted_label                                      evidence_list\n",
    "        0    3984          refutes  ...         REFUTES  [城市規劃是城市建設及管理的依據 ， 位於城市管理之規劃 、 建設 、 運作三個階段之首 ，...\n",
    "        ..    ...              ...  ...             ...                                                ...\n",
    "        945  3042         supports  ...         REFUTES  [北歐人相傳每當雷雨交加時就是索爾乘坐馬車出來巡視 ， 因此稱呼索爾為 “ 雷神 ” 。, ...\n",
    "\n",
    "        [946 rows x 10 columns]\n",
    "    \"\"\"\n",
    "    with open(file_path, \"r\", encoding=\"utf8\") as json_file:\n",
    "        json_list = list(json_file)\n",
    "\n",
    "    return pd.DataFrame([json.loads(json_str) for json_str in json_list])"
   ]
  },
  {
   "cell_type": "code",
   "execution_count": 8,
   "id": "d41aa4ae",
   "metadata": {
    "ExecuteTime": {
     "end_time": "2023-04-27T02:19:05.982896Z",
     "start_time": "2023-04-27T02:19:05.977047Z"
    }
   },
   "outputs": [],
   "source": [
    "test_data = load_json(\"public_test_data.jsonl\")\n",
    "test_data.sort_values(by = [\"id\"], inplace = True)"
   ]
  },
  {
   "cell_type": "code",
   "execution_count": 9,
   "id": "dc3971b3",
   "metadata": {
    "ExecuteTime": {
     "end_time": "2023-04-27T02:19:12.499543Z",
     "start_time": "2023-04-27T02:19:12.494817Z"
    }
   },
   "outputs": [
    {
     "data": {
      "text/html": [
       "<div>\n",
       "<style scoped>\n",
       "    .dataframe tbody tr th:only-of-type {\n",
       "        vertical-align: middle;\n",
       "    }\n",
       "\n",
       "    .dataframe tbody tr th {\n",
       "        vertical-align: top;\n",
       "    }\n",
       "\n",
       "    .dataframe thead th {\n",
       "        text-align: right;\n",
       "    }\n",
       "</style>\n",
       "<table border=\"1\" class=\"dataframe\">\n",
       "  <thead>\n",
       "    <tr style=\"text-align: right;\">\n",
       "      <th></th>\n",
       "      <th>id</th>\n",
       "      <th>claim</th>\n",
       "    </tr>\n",
       "  </thead>\n",
       "  <tbody>\n",
       "    <tr>\n",
       "      <th>909</th>\n",
       "      <td>82</td>\n",
       "      <td>大象出現於唐朝。</td>\n",
       "    </tr>\n",
       "    <tr>\n",
       "      <th>270</th>\n",
       "      <td>100</td>\n",
       "      <td>臺北 101 建造了 90 年。</td>\n",
       "    </tr>\n",
       "    <tr>\n",
       "      <th>269</th>\n",
       "      <td>111</td>\n",
       "      <td>非營利組織彌補了社會需求與政府供給間的落差</td>\n",
       "    </tr>\n",
       "    <tr>\n",
       "      <th>842</th>\n",
       "      <td>112</td>\n",
       "      <td>非營利組織核心目標通常是支持或處理個人關心或者公衆關注的議題或事件</td>\n",
       "    </tr>\n",
       "    <tr>\n",
       "      <th>713</th>\n",
       "      <td>130</td>\n",
       "      <td>樂山大佛建造於唐朝而且花了 90 年。</td>\n",
       "    </tr>\n",
       "  </tbody>\n",
       "</table>\n",
       "</div>"
      ],
      "text/plain": [
       "      id                              claim\n",
       "909   82                           大象出現於唐朝。\n",
       "270  100                   臺北 101 建造了 90 年。\n",
       "269  111              非營利組織彌補了社會需求與政府供給間的落差\n",
       "842  112  非營利組織核心目標通常是支持或處理個人關心或者公衆關注的議題或事件\n",
       "713  130                樂山大佛建造於唐朝而且花了 90 年。"
      ]
     },
     "execution_count": 9,
     "metadata": {},
     "output_type": "execute_result"
    }
   ],
   "source": [
    "test_data.head()"
   ]
  },
  {
   "cell_type": "code",
   "execution_count": null,
   "id": "84ab1ade",
   "metadata": {},
   "outputs": [],
   "source": []
  }
 ],
 "metadata": {
  "kernelspec": {
   "display_name": "Python 3 (ipykernel)",
   "language": "python",
   "name": "python3"
  },
  "language_info": {
   "codemirror_mode": {
    "name": "ipython",
    "version": 3
   },
   "file_extension": ".py",
   "mimetype": "text/x-python",
   "name": "python",
   "nbconvert_exporter": "python",
   "pygments_lexer": "ipython3",
   "version": "3.8.13"
  }
 },
 "nbformat": 4,
 "nbformat_minor": 5
}
